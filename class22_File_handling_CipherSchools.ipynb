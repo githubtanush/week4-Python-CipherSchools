{
  "nbformat": 4,
  "nbformat_minor": 0,
  "metadata": {
    "colab": {
      "provenance": [],
      "authorship_tag": "ABX9TyNlkRu1heKJgDjtqZ9Tief/",
      "include_colab_link": true
    },
    "kernelspec": {
      "name": "python3",
      "display_name": "Python 3"
    },
    "language_info": {
      "name": "python"
    }
  },
  "cells": [
    {
      "cell_type": "markdown",
      "metadata": {
        "id": "view-in-github",
        "colab_type": "text"
      },
      "source": [
        "<a href=\"https://colab.research.google.com/github/githubtanush/week4-Python-CipherSchools/blob/main/class22_File_handling_CipherSchools.ipynb\" target=\"_parent\"><img src=\"https://colab.research.google.com/assets/colab-badge.svg\" alt=\"Open In Colab\"/></a>"
      ]
    },
    {
      "cell_type": "code",
      "execution_count": null,
      "metadata": {
        "id": "veB7WfNxJjLa"
      },
      "outputs": [],
      "source": [
        "file=open(\"random.txt\",\"w\")\n",
        "file.write(\"blah blah blah\")\n",
        "file.close()\n",
        "file=open(\"random.txt\",\"w\")\n",
        "file.write(\"Jatin Katyal\")\n",
        "file.write(\"\\n new line\")\n",
        "a=[\"jatin\",\"sanarth\",\"sujith\",\"saranah\"]\n",
        "file.writelines(a)\n",
        "for i in a:\n",
        "    file.write(i)\n",
        "file.close()\n",
        "\n",
        "# Reading from a file\n",
        "file = open(\"sample.txt\",\"r\")\n",
        "print(file.read())\n",
        "\n",
        "# Smarter way of opening files...\n",
        "with open(\"random.txt\",\"r\") as file:\n",
        "    print(file.read())"
      ]
    }
  ]
}