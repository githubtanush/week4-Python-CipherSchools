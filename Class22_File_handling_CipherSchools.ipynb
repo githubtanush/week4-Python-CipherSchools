{
  "nbformat": 4,
  "nbformat_minor": 0,
  "metadata": {
    "colab": {
      "provenance": [],
      "authorship_tag": "ABX9TyNjpZqHL8ABZPB86q4fnXci",
      "include_colab_link": true
    },
    "kernelspec": {
      "name": "python3",
      "display_name": "Python 3"
    },
    "language_info": {
      "name": "python"
    }
  },
  "cells": [
    {
      "cell_type": "markdown",
      "metadata": {
        "id": "view-in-github",
        "colab_type": "text"
      },
      "source": [
        "<a href=\"https://colab.research.google.com/github/githubtanush/week4-Python-CipherSchools/blob/main/Class22_File_handling_CipherSchools.ipynb\" target=\"_parent\"><img src=\"https://colab.research.google.com/assets/colab-badge.svg\" alt=\"Open In Colab\"/></a>"
      ]
    },
    {
      "cell_type": "code",
      "execution_count": null,
      "metadata": {
        "id": "58eiqnUrM2uZ"
      },
      "outputs": [],
      "source": [
        "# File Access Modes\n",
        "'''\n",
        "Read Only ('r')\n",
        "Read and Write ('r+') \n",
        "Write Only ('w')\n",
        "Write and Read ('w+')\n",
        "Append Only ('a')\n",
        "Append And Read ('a+')\n",
        "'''"
      ]
    },
    {
      "cell_type": "code",
      "source": [
        "# Opening File"
      ],
      "metadata": {
        "id": "iAiVL2oqM_Qg"
      },
      "execution_count": null,
      "outputs": []
    },
    {
      "cell_type": "code",
      "source": [
        "file = open(\"random.txt\",\"w\")"
      ],
      "metadata": {
        "id": "6ufrr3Q6M_OJ"
      },
      "execution_count": null,
      "outputs": []
    },
    {
      "cell_type": "code",
      "source": [
        "file.write(\"I am Demon King\")"
      ],
      "metadata": {
        "colab": {
          "base_uri": "https://localhost:8080/"
        },
        "id": "A8XwlxpaM_Lj",
        "outputId": "e836dcaa-0323-4234-9c92-0fac4dd75613"
      },
      "execution_count": null,
      "outputs": [
        {
          "output_type": "execute_result",
          "data": {
            "text/plain": [
              "15"
            ]
          },
          "metadata": {},
          "execution_count": 6
        }
      ]
    },
    {
      "cell_type": "code",
      "source": [
        "file.write(\"\\nThis world shall know pain \")"
      ],
      "metadata": {
        "colab": {
          "base_uri": "https://localhost:8080/"
        },
        "id": "rIKBi9UaM_I7",
        "outputId": "1d95d918-bff9-4753-cfc1-1476df48c13e"
      },
      "execution_count": null,
      "outputs": [
        {
          "output_type": "execute_result",
          "data": {
            "text/plain": [
              "28"
            ]
          },
          "metadata": {},
          "execution_count": 7
        }
      ]
    },
    {
      "cell_type": "code",
      "source": [
        "file.close()"
      ],
      "metadata": {
        "id": "_iqZ-MYFM_GX"
      },
      "execution_count": null,
      "outputs": []
    },
    {
      "cell_type": "code",
      "source": [
        "# Writing To a file\n",
        "'''\n",
        "> write\n",
        "> writelines\n",
        "'''"
      ],
      "metadata": {
        "id": "LNCV4kdNM_A3"
      },
      "execution_count": null,
      "outputs": []
    },
    {
      "cell_type": "code",
      "source": [
        "file = open(\"random.txt\", \"w\")\n",
        "file.write(\"Izuku Or Naruto\")"
      ],
      "metadata": {
        "colab": {
          "base_uri": "https://localhost:8080/"
        },
        "id": "2u12qHnjM--P",
        "outputId": "28775d0f-e40d-48da-b7ef-bbf0a71a5055"
      },
      "execution_count": null,
      "outputs": [
        {
          "output_type": "execute_result",
          "data": {
            "text/plain": [
              "15"
            ]
          },
          "metadata": {},
          "execution_count": 8
        }
      ]
    },
    {
      "cell_type": "code",
      "source": [
        "a = [\"\\nEren\\n\",\"Ichigo\\n\",\"Saitama\\n\",\"Itachi\\n\",\"Rintarou\"]"
      ],
      "metadata": {
        "id": "8L4-znyyM-7b"
      },
      "execution_count": null,
      "outputs": []
    },
    {
      "cell_type": "code",
      "source": [
        "file.writelines(a)\n"
      ],
      "metadata": {
        "id": "2mFtv0jKNNq5"
      },
      "execution_count": null,
      "outputs": []
    },
    {
      "cell_type": "code",
      "source": [
        "file.close()"
      ],
      "metadata": {
        "id": "t7xzyTj5NNoS"
      },
      "execution_count": null,
      "outputs": []
    },
    {
      "cell_type": "code",
      "source": [
        "# Reading from a file\n",
        "'''\n",
        "> read\n",
        "> readline\n",
        "> readlines\n",
        "'''"
      ],
      "metadata": {
        "colab": {
          "base_uri": "https://localhost:8080/",
          "height": 35
        },
        "id": "-wMCKyAWNNl8",
        "outputId": "22ea2642-a329-491a-f68a-349214d0c133"
      },
      "execution_count": null,
      "outputs": [
        {
          "output_type": "execute_result",
          "data": {
            "text/plain": [
              "'\\n> read\\n> readline\\n> readlines\\n'"
            ],
            "application/vnd.google.colaboratory.intrinsic+json": {
              "type": "string"
            }
          },
          "metadata": {},
          "execution_count": 12
        }
      ]
    },
    {
      "cell_type": "code",
      "source": [
        "file = open(\"sample.txt\",\"r\")"
      ],
      "metadata": {
        "id": "DnBxGVFMNNjV"
      },
      "execution_count": null,
      "outputs": []
    },
    {
      "cell_type": "code",
      "source": [
        "file.read()\n"
      ],
      "metadata": {
        "id": "2mFUeQ2yNNgu",
        "colab": {
          "base_uri": "https://localhost:8080/",
          "height": 164
        },
        "outputId": "90045e67-f685-4055-a273-3b296feba518"
      },
      "execution_count": null,
      "outputs": [
        {
          "output_type": "error",
          "ename": "ValueError",
          "evalue": "ignored",
          "traceback": [
            "\u001b[0;31m---------------------------------------------------------------------------\u001b[0m",
            "\u001b[0;31mValueError\u001b[0m                                Traceback (most recent call last)",
            "\u001b[0;32m<ipython-input-17-f3fc120c03c1>\u001b[0m in \u001b[0;36m<module>\u001b[0;34m\u001b[0m\n\u001b[0;32m----> 1\u001b[0;31m \u001b[0mfile\u001b[0m\u001b[0;34m.\u001b[0m\u001b[0mread\u001b[0m\u001b[0;34m(\u001b[0m\u001b[0;34m)\u001b[0m\u001b[0;34m\u001b[0m\u001b[0;34m\u001b[0m\u001b[0m\n\u001b[0m",
            "\u001b[0;31mValueError\u001b[0m: I/O operation on closed file."
          ]
        }
      ]
    },
    {
      "cell_type": "code",
      "source": [
        "print(file.read())"
      ],
      "metadata": {
        "id": "wr5RZPQwNNeJ",
        "colab": {
          "base_uri": "https://localhost:8080/",
          "height": 164
        },
        "outputId": "9a7376b4-ed00-4133-a760-06e2ab464971"
      },
      "execution_count": null,
      "outputs": [
        {
          "output_type": "error",
          "ename": "ValueError",
          "evalue": "ignored",
          "traceback": [
            "\u001b[0;31m---------------------------------------------------------------------------\u001b[0m",
            "\u001b[0;31mValueError\u001b[0m                                Traceback (most recent call last)",
            "\u001b[0;32m<ipython-input-18-094f07845ae3>\u001b[0m in \u001b[0;36m<module>\u001b[0;34m\u001b[0m\n\u001b[0;32m----> 1\u001b[0;31m \u001b[0mprint\u001b[0m\u001b[0;34m(\u001b[0m\u001b[0mfile\u001b[0m\u001b[0;34m.\u001b[0m\u001b[0mread\u001b[0m\u001b[0;34m(\u001b[0m\u001b[0;34m)\u001b[0m\u001b[0;34m)\u001b[0m\u001b[0;34m\u001b[0m\u001b[0;34m\u001b[0m\u001b[0m\n\u001b[0m",
            "\u001b[0;31mValueError\u001b[0m: I/O operation on closed file."
          ]
        }
      ]
    },
    {
      "cell_type": "code",
      "source": [
        "# Streams\n",
        "# Iterables which can iterated in single direction\n",
        "# They don't have starting and ending point"
      ],
      "metadata": {
        "id": "XDONgU0sNb9N"
      },
      "execution_count": null,
      "outputs": []
    },
    {
      "cell_type": "code",
      "source": [
        "# Moving the cursor\n",
        "# >seek(n): Takes the file handle to the nth byte from the beginning. "
      ],
      "metadata": {
        "id": "Cyc_KC19Nb64"
      },
      "execution_count": null,
      "outputs": []
    },
    {
      "cell_type": "code",
      "source": [
        "#  Smarter Way of opening files..... "
      ],
      "metadata": {
        "id": "iu3v1NHpNb4z"
      },
      "execution_count": null,
      "outputs": []
    },
    {
      "cell_type": "code",
      "source": [
        "# Context Programming"
      ],
      "metadata": {
        "id": "UilTwO1CNb2L"
      },
      "execution_count": null,
      "outputs": []
    },
    {
      "cell_type": "code",
      "source": [
        "with open(\"random.txt\",\"r\") as file:\n",
        "    print(file.read())\n",
        "\n",
        "print(file.read())"
      ],
      "metadata": {
        "id": "_lmW_USZNbz0"
      },
      "execution_count": null,
      "outputs": []
    },
    {
      "cell_type": "code",
      "source": [
        "class A:\n",
        "    def __enter__(self):\n",
        "        print(\"Entered\")\n",
        "\n",
        "    def __exit__(self, *args):\n",
        "        print(\"Exitted\")\n",
        "        print(args)\n",
        "        return True"
      ],
      "metadata": {
        "id": "_Kl1A8l_Nbw_"
      },
      "execution_count": null,
      "outputs": []
    },
    {
      "cell_type": "code",
      "source": [
        "with A() as x:\n",
        "    print(x)\n",
        "    print(\"inside context\")\n",
        "    raise Exception\n",
        "\n",
        "print(\"Outside context\")"
      ],
      "metadata": {
        "id": "PW4863SWNoCX",
        "colab": {
          "base_uri": "https://localhost:8080/"
        },
        "outputId": "1d59ceb2-cc37-4e7d-c262-6ee7ba706aa2"
      },
      "execution_count": null,
      "outputs": [
        {
          "output_type": "stream",
          "name": "stdout",
          "text": [
            "Entered\n",
            "None\n",
            "inside context\n",
            "Exitted\n",
            "(<class 'Exception'>, Exception(), <traceback object at 0x7fc5993fb6c0>)\n",
            "Outside context\n"
          ]
        }
      ]
    },
    {
      "cell_type": "code",
      "source": [
        "# xml"
      ],
      "metadata": {
        "id": "ILZu_dcYNn_v"
      },
      "execution_count": null,
      "outputs": []
    },
    {
      "cell_type": "code",
      "source": [
        "# html\n",
        "'''\n",
        "<html>\n",
        "    <body>\n",
        "        Hello World\n",
        "    </body>\n",
        "</html>\n",
        "'''"
      ],
      "metadata": {
        "id": "wFPGUta1Nn9Z"
      },
      "execution_count": null,
      "outputs": []
    },
    {
      "cell_type": "code",
      "source": [
        "# JSON files\n",
        "'''\n",
        "{\n",
        "    \"html\": {\n",
        "        \"body\": \"Hello World\"\n",
        "    }\n",
        "}\n",
        "'''\n",
        "# JSON rule\n",
        "'''\n",
        "-- keys can only be strings and numbers\n",
        "-- values can only be array, json, string, numbers, boolean & null\n",
        "'''\n"
      ],
      "metadata": {
        "id": "Pr0L3eIrNn7C"
      },
      "execution_count": null,
      "outputs": []
    },
    {
      "cell_type": "code",
      "source": [
        "#  JSON Example---"
      ],
      "metadata": {
        "id": "cM1jpFF4Nn4s"
      },
      "execution_count": null,
      "outputs": []
    },
    {
      "cell_type": "code",
      "source": [
        "a = {\n",
        "    \"name\": \"izuku\",\n",
        "    \"marks\": \"100\",\n",
        "    \"languages\": [\"c#\",\"js\",\"python\",\"go\",\"rust\"]\n",
        "}\n"
      ],
      "metadata": {
        "id": "NlWMj_yhNn15"
      },
      "execution_count": null,
      "outputs": []
    },
    {
      "cell_type": "code",
      "source": [
        "import json"
      ],
      "metadata": {
        "id": "B2B6whRHNzfs"
      },
      "execution_count": null,
      "outputs": []
    },
    {
      "cell_type": "code",
      "source": [
        "s = json.dumps(a)"
      ],
      "metadata": {
        "id": "8wu8hnZaNzad"
      },
      "execution_count": null,
      "outputs": []
    },
    {
      "cell_type": "code",
      "source": [
        "type(s)"
      ],
      "metadata": {
        "id": "lNHrctTFNzX1"
      },
      "execution_count": null,
      "outputs": []
    },
    {
      "cell_type": "code",
      "source": [
        "print(s)"
      ],
      "metadata": {
        "id": "pOYIOu3ANzVA"
      },
      "execution_count": null,
      "outputs": []
    }
  ]
}